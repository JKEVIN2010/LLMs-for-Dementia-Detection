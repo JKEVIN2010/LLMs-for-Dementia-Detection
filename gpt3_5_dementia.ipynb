{
  "cells": [
    {
      "cell_type": "code",
      "execution_count": null,
      "metadata": {
        "id": "qxVX8TPP_Ebb"
      },
      "outputs": [],
      "source": [
        "import tqdm\n",
        "import time\n",
        "import openai\n",
        "import regex as re\n",
        "import textwrap\n",
        "import pandas as pd\n",
        "openai.api_key = \"\""
      ]
    },
    {
      "cell_type": "code",
      "execution_count": null,
      "metadata": {
        "id": "cSfWXKlS_Ebi"
      },
      "outputs": [],
      "source": [
        "def post_process(text):\n",
        "    text = text.strip()\n",
        "    text = text.lower()\n",
        "    text = text.replace('\\n', ' ')\n",
        "    text = text.replace(\" .\", \".\")\n",
        "    text = text.replace(\" ?\", \"?\")\n",
        "    text = text.replace(\"/.\", \"\")\n",
        "    text = text.replace(\"/\", \"\")\n",
        "    text = text.replace(\" ,\", \",\")\n",
        "    text = text.replace(\"//.\", \"\")\n",
        "    text = re.sub(r' +', ' ', text)\n",
        "    text = text.replace('\\\\', '')\n",
        "    return text"
      ]
    },
    {
      "cell_type": "code",
      "execution_count": null,
      "metadata": {
        "id": "NNFBT2ny_Ebl"
      },
      "outputs": [],
      "source": [
        "ds = pd.read_csv(\"cookie.csv\")\n",
        "df = pd.DataFrame(columns=['text', 'label'], index=range(len(ds)))\n",
        "wrapper = textwrap.TextWrapper(width=100)\n",
        "for i in range(len(ds)):\n",
        "    idx = ds.iat[i, 0]\n",
        "    text = ds.iat[i, 1]\n",
        "    label = ds.iat[i, 2]\n",
        "    text = post_process(text)\n",
        "    text = wrapper.wrap(text=text)\n",
        "    textw = \"\\n\".join(c for c in text)\n",
        "    df.loc[i] = [textw, label]\n",
        "\n",
        "split = 5\n",
        "df_train = df[:split]\n",
        "df_val = df[split:]\n",
        "\n",
        "id_to_label = {0:'diseased subject', 1:'healthy subject'}\n",
        "train_instructions = [f\"Transcript: {x}\\nAssistant: {id_to_label[y]}\" for x, y in zip(df_train.text, df_train.label)]\n",
        "val_instructions = [f\"Transcript: {x}\\nAssistant:\" for x in df_val.text]\n",
        "val_labels = [id_to_label[y] for y in df_val.label]\n"
      ]
    },
    {
      "cell_type": "code",
      "execution_count": null,
      "metadata": {
        "id": "2uJ3UitA_Ebm",
        "outputId": "1552cf1a-876e-494b-d908-709e30e51962"
      },
      "outputs": [
        {
          "name": "stdout",
          "output_type": "stream",
          "text": [
            "You are helpful assistant, who is given a transcript of \n",
            "a conversation from either from a healthy or diseased subject. \n",
            "Please classify it as one of them and if context is not enough\n",
            "classify as diseased subject. A few examples are given below:\n",
            "\n",
            "Transcript: well â€¡ the stool is falling over. the boy is taking cookies out of the cookie jar. the little girl\n",
            "is reaching for a cookie and holding her arm up. the mother is doing dishes. the water is spilling\n",
            "out of the sink. and the mothers standing in the water. the mother is looking out of the window. the\n",
            "waters coming out of the faucet. that is about all i can get out of that.\n",
            "Assistant: diseased subject\n",
            "\n",
            "Transcript: these two little kids are getting cookies out of the cookie jar. and this lady over here is ... what\n",
            "is she doing? she is decorating. is not that what she is doing? decorating? well, they are getting\n",
            "cookies out of the cookie jar. up on a stool that looks like it is gonna topple over. looks like she\n",
            "is washing dishes. drying dishes. she is got a cloth in her hand and a dish in her hand. and the oh,\n",
            "maybe she is gonna wipe up some water because it is sure running out here of the sink.\n",
            "Assistant: healthy subject\n",
            "\n",
            "Transcript: mhm. there is a boy and a girl and the boy is on the stool taking cookies out of the cookie jar on a\n",
            "stool. and the stool is tilting over. and the girl is reaching up and he is passing the cookies to\n",
            "her. and the mother is drying dishes in front of the open window. and while she is drying the dish\n",
            "with the towel the sink is running over. and it is all splash on the floor. and there is two cups\n",
            "and plate that are sitting on the counter. and i do not know. there is trees and grass outside. and\n",
            "the kitchen has all these cabinets. that it.\n",
            "Assistant: diseased subject\n",
            "\n",
            "Transcript: the girls trying ... did i get that? and girl that is drying does dishes, right? she is washing\n",
            "dishes. and there is two boys. one is get a cookies jar in the cabinet. and she wants a cookie. and\n",
            "the girl ... what is it always say that? upset the water up the sink.\n",
            "Assistant: healthy subject\n",
            "\n",
            "Transcript: there is a girl waiting to get a cookie from i guess her brother. the stool tipping over where he is\n",
            "into the cookie jar in the cupboard. womans washing dishes. sinks overflowing. windows open. where\n",
            "the kids into the cookie jar the lids off of course. i do not know whether the curtains are blowing\n",
            "or not. these are the action things you want right? no i do not see anything else. what did i miss?\n",
            "Assistant: diseased subject\n",
            "\n",
            "\n"
          ]
        }
      ],
      "source": [
        "template = \"\"\"You are helpful assistant, who is given a transcript of\n",
        "a conversation from either from a healthy or diseased subject.\n",
        "Please classify it as one of them and if context is not enough\n",
        "classify as diseased subject. A few examples are given below:\\n\"\"\"\n",
        "\n",
        "prompt = f\"{template}\\n\"\n",
        "for ex in train_instructions:\n",
        "    prompt += f\"{ex}\\n\\n\"\n",
        "print(prompt)"
      ]
    },
    {
      "cell_type": "code",
      "execution_count": null,
      "metadata": {
        "id": "JZ7s3FtK_Ebo",
        "outputId": "ece9575b-a676-47dd-ffbf-477b268c4867"
      },
      "outputs": [
        {
          "name": "stderr",
          "output_type": "stream",
          "text": [
            "100%|██████████| 50/50 [00:57<00:00,  1.16s/it]\n",
            "100%|██████████| 50/50 [01:14<00:00,  1.48s/it]\n",
            "100%|██████████| 50/50 [01:10<00:00,  1.41s/it]\n",
            "100%|██████████| 50/50 [01:30<00:00,  1.80s/it]\n",
            "100%|██████████| 50/50 [01:57<00:00,  2.34s/it]\n",
            "100%|██████████| 50/50 [00:59<00:00,  1.20s/it]\n",
            "100%|██████████| 50/50 [01:02<00:00,  1.25s/it]\n",
            "100%|██████████| 50/50 [01:19<00:00,  1.58s/it]\n",
            "100%|██████████| 50/50 [01:11<00:00,  1.42s/it]\n",
            "100%|██████████| 50/50 [01:05<00:00,  1.31s/it]\n"
          ]
        }
      ],
      "source": [
        "responses, labels = [], []\n",
        "for i in range(10):\n",
        "    for idx in tqdm.tqdm(range(i*50, (i+1)*50)):\n",
        "        try:\n",
        "            completion = openai.ChatCompletion.create(\n",
        "                        model=\"gpt-3.5-turbo-0613\",\n",
        "                        messages=[{\"role\": \"user\", \"content\": prompt + f\"{val_instructions[idx]}\\n\"}],\n",
        "                        temperature=0,\n",
        "                        request_timeout=20,\n",
        "                    )\n",
        "            response = completion.choices[0].message.content\n",
        "        except:\n",
        "            continue\n",
        "        label = val_labels[idx]\n",
        "        labels.append(label)\n",
        "        responses.append(response)\n",
        "    if i < 9:\n",
        "        time.sleep(10)\n"
      ]
    },
    {
      "cell_type": "code",
      "execution_count": null,
      "metadata": {
        "id": "jvw3mp8x_Ebq"
      },
      "outputs": [],
      "source": [
        "# with open(\"labels.txt\", \"r\") as f:\n",
        "#     labels = f.readlines()\n",
        "# with open(\"responses.txt\", \"r\") as f:\n",
        "#     responses = f.readlines()\n",
        "\n",
        "results_idx = [0 if \"diseased subject\" in x else 1 for x in responses]\n",
        "labels_idx =  [0 if \"diseased subject\" in x else 1 for x in labels]\n",
        "assert len(results_idx) == len(labels_idx)"
      ]
    },
    {
      "cell_type": "code",
      "execution_count": null,
      "metadata": {
        "id": "43p9pPXQ_Ebq",
        "outputId": "8198f4f3-05f1-4580-ec66-8d3c59ceb8e8"
      },
      "outputs": [
        {
          "name": "stdout",
          "output_type": "stream",
          "text": [
            "Accuracy:           0.5046\n",
            "F1 Score:           0.6485\n",
            "Precision:          0.8143\n",
            "Specificity:        0.3133\n",
            "Recall/Sensitivity: 0.5388\n"
          ]
        }
      ],
      "source": [
        "from sklearn.metrics import accuracy_score, f1_score, precision_score, recall_score, confusion_matrix\n",
        "tn, fp, fn, tp = confusion_matrix(results_idx, labels_idx).ravel()\n",
        "specificity = tn / (tn+fp)\n",
        "\n",
        "print(\"Accuracy:           {:.4f}\".format(accuracy_score(results_idx, labels_idx)))\n",
        "print(\"F1 Score:           {:.4f}\".format(f1_score(results_idx, labels_idx)))\n",
        "print(\"Precision:          {:.4f}\".format(precision_score(results_idx, labels_idx)))\n",
        "print(\"Specificity:        {:.4f}\".format(specificity))\n",
        "print(\"Recall/Sensitivity: {:.4f}\".format(recall_score(results_idx, labels_idx)))"
      ]
    }
  ],
  "metadata": {
    "kernelspec": {
      "display_name": "Python 3 (ipykernel)",
      "language": "python",
      "name": "python3"
    },
    "language_info": {
      "codemirror_mode": {
        "name": "ipython",
        "version": 3
      },
      "file_extension": ".py",
      "mimetype": "text/x-python",
      "name": "python",
      "nbconvert_exporter": "python",
      "pygments_lexer": "ipython3",
      "version": "3.7.2"
    },
    "colab": {
      "provenance": []
    }
  },
  "nbformat": 4,
  "nbformat_minor": 0
}